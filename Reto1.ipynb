{
  "cells": [
    {
      "cell_type": "markdown",
      "metadata": {
        "id": "view-in-github",
        "colab_type": "text"
      },
      "source": [
        "<a href=\"https://colab.research.google.com/github/PipoKike/PipoKike/blob/main/Reto1.ipynb\" target=\"_parent\"><img src=\"https://colab.research.google.com/assets/colab-badge.svg\" alt=\"Open In Colab\"/></a>"
      ]
    },
    {
      "cell_type": "code",
      "execution_count": null,
      "metadata": {
        "id": "_WMkHbl7zN2_"
      },
      "outputs": [],
      "source": [
        ""
      ]
    },
    {
      "cell_type": "markdown",
      "metadata": {
        "id": "BiysQcz4zZ68"
      },
      "source": [
        "Concursantes tiene que adivinar un número (n) entre 0 y (b)\n",
        "\n",
        "Reglas\n",
        "\n",
        "1. Si el numero ingresado por el concursante es > (mayor) que (n), debe imprimir: ¡Ups! Te pasaste\n",
        "\n",
        "2. Si el número ingrsado por el concursante es < (menor) que (n), debe imprimir: ¡Ups! Estas por debajo\n",
        "\n",
        "3. Si el número ingresasdo por el concursante es igual a (n), debe imprimir ¡Lo Lograste!  y usaste (x) intentos para poder adivinar.\n",
        "\n",
        "\n",
        "\n"
      ]
    },
    {
      "cell_type": "code",
      "execution_count": 1,
      "metadata": {
        "colab": {
          "base_uri": "https://localhost:8080/"
        },
        "id": "vc4NZeaizqEL",
        "outputId": "8181ce24-8198-4aa2-80ac-c3148226e1de"
      },
      "outputs": [
        {
          "output_type": "stream",
          "name": "stdout",
          "text": [
            "Hola concursante, listo para jugar\n",
            "Tienes que adivinar un número entre0y30\n",
            "Cuál es el número\n",
            "30\n",
            "¡Ups! Te pasaste\n",
            "Cuál es el número\n",
            "25\n",
            "¡Ups! Estás por debajo\n",
            "Cuál es el número\n",
            "27\n",
            "¡LO LOGRASTE!has adivinado en3intentos\n"
          ]
        }
      ],
      "source": [
        "intentos = 0\n",
        "numeroMin = 0\n",
        "b = 30\n",
        "n = 27\n",
        "print('Hola concursante, listo para jugar')\n",
        "print('Tienes que adivinar un número entre'+ str(numeroMin) + 'y' + str(b))\n",
        "\n",
        "while intentos < 6:\n",
        "  print('Cuál es el número')\n",
        "  adivinado = input()\n",
        "  adivinado = int(adivinado)\n",
        "\n",
        "  intentos = intentos + 1\n",
        "\n",
        "  n = int(n)\n",
        "\n",
        "  if adivinado < n:\n",
        "    print('¡Ups! Estás por debajo')\n",
        "  if adivinado > n:\n",
        "    print('¡Ups! Te pasaste')\n",
        "  if adivinado == n:\n",
        "    break\n",
        "\n",
        "if adivinado == n:\n",
        "  intentos = str(intentos)\n",
        "print('¡LO LOGRASTE!' 'has adivinado en' + intentos + 'intentos') \n"
      ]
    }
  ],
  "metadata": {
    "colab": {
      "name": "Reto1.ipynb",
      "provenance": [],
      "authorship_tag": "ABX9TyO88qlkDdoThN1sXvFF8Poc",
      "include_colab_link": true
    },
    "kernelspec": {
      "display_name": "Python 3",
      "name": "python3"
    },
    "language_info": {
      "name": "python"
    }
  },
  "nbformat": 4,
  "nbformat_minor": 0
}